{
 "cells": [
  {
   "cell_type": "markdown",
   "id": "ea2c8f9f",
   "metadata": {},
   "source": [
    "# Amazon Fine Food Reviews Analysis\n",
    "Data Source:Kaggle\n"
   ]
  },
  {
   "cell_type": "markdown",
   "id": "2ae20798",
   "metadata": {},
   "source": [
    "The Amazon Fine Food Reviews dataset consists of reviews of fine foods from Amazon.\n",
    "Number of reviews: 568,454\n",
    "Number of users: 256,059\n",
    "Number of products: 74,258\n",
    "Timespan: Oct 1999 - Oct 2012\n",
    "Number of Attributes/Columns in data: 10 \n",
    "\n",
    "Attribute Information:\n",
    "1. Id\n",
    "2. ProductId - unique identifier of the product\n",
    "3. UserId - unqiue identifier of the user\n",
    "4. ProfileName\n",
    "5. HelpfulnessNumerator - number of users who found the review helpful\n",
    "6. HelpfulnessDenominator - number of users who found the review helpful or not helpful\n",
    "7. Score - rating between 1 and 5\n",
    "8. Time - timestamp for the review\n",
    "9. Summary - brief summary of the review\n",
    "10. Text - text of the review"
   ]
  },
  {
   "cell_type": "markdown",
   "id": "42a9787b",
   "metadata": {},
   "source": [
    "# Objective:\n",
    "Determine the polarity of the given review. Or determine whether a given review for a product is positive or not.\n",
    "\n",
    "\n",
    "Approach:\n",
    "We could use the Score/Rating. A score of 4 or 5 could be considered as positive review. A score of 1 or 2 could be considered as negative. Review of rating 3 is ignored as it could be considered as neutral. This approach is approximate and proxy way of determining the polarity of the review.\n"
   ]
  },
  {
   "cell_type": "code",
   "execution_count": 1,
   "id": "a2fa7c58",
   "metadata": {},
   "outputs": [],
   "source": [
    "#Importing modules\n",
    "%matplotlib inline\n",
    "import warnings\n",
    "warnings.filterwarnings(\"ignore\")\n",
    "\n",
    "\n",
    "\n",
    "import sqlite3\n",
    "import pandas as pd\n",
    "import numpy as np\n",
    "import nltk\n",
    "import string\n",
    "import matplotlib.pyplot as plt\n",
    "import seaborn as sns\n",
    "from sklearn.feature_extraction.text import TfidfTransformer\n",
    "from sklearn.feature_extraction.text import TfidfVectorizer\n",
    "\n",
    "from sklearn.feature_extraction.text import CountVectorizer\n",
    "from sklearn.metrics import confusion_matrix\n",
    "from sklearn import metrics\n",
    "from sklearn.metrics import roc_curve, auc\n",
    "from nltk.stem.porter import PorterStemmer\n",
    "\n",
    "\n",
    "import re\n",
    "\n",
    "import string\n",
    "from nltk.corpus import stopwords\n",
    "from nltk.stem import PorterStemmer\n",
    "from nltk.stem.wordnet import WordNetLemmatizer\n",
    "\n",
    "from gensim.models import Word2Vec\n",
    "from gensim.models import KeyedVectors\n",
    "import pickle\n",
    "\n",
    "from tqdm import tqdm\n",
    "import os"
   ]
  },
  {
   "cell_type": "markdown",
   "id": "32af984d",
   "metadata": {},
   "source": [
    "# 1. Loading and reading data."
   ]
  },
  {
   "cell_type": "code",
   "execution_count": 19,
   "id": "8447eaba",
   "metadata": {},
   "outputs": [
    {
     "name": "stdout",
     "output_type": "stream",
     "text": [
      "Number of datapoints in filtered_data: (10000, 10)\n"
     ]
    },
    {
     "data": {
      "text/html": [
       "<div>\n",
       "<style scoped>\n",
       "    .dataframe tbody tr th:only-of-type {\n",
       "        vertical-align: middle;\n",
       "    }\n",
       "\n",
       "    .dataframe tbody tr th {\n",
       "        vertical-align: top;\n",
       "    }\n",
       "\n",
       "    .dataframe thead th {\n",
       "        text-align: right;\n",
       "    }\n",
       "</style>\n",
       "<table border=\"1\" class=\"dataframe\">\n",
       "  <thead>\n",
       "    <tr style=\"text-align: right;\">\n",
       "      <th></th>\n",
       "      <th>Id</th>\n",
       "      <th>ProductId</th>\n",
       "      <th>UserId</th>\n",
       "      <th>ProfileName</th>\n",
       "      <th>HelpfulnessNumerator</th>\n",
       "      <th>HelpfulnessDenominator</th>\n",
       "      <th>Score</th>\n",
       "      <th>Time</th>\n",
       "      <th>Summary</th>\n",
       "      <th>Text</th>\n",
       "    </tr>\n",
       "  </thead>\n",
       "  <tbody>\n",
       "    <tr>\n",
       "      <th>0</th>\n",
       "      <td>1</td>\n",
       "      <td>B001E4KFG0</td>\n",
       "      <td>A3SGXH7AUHU8GW</td>\n",
       "      <td>delmartian</td>\n",
       "      <td>1</td>\n",
       "      <td>1</td>\n",
       "      <td>1</td>\n",
       "      <td>1303862400</td>\n",
       "      <td>Good Quality Dog Food</td>\n",
       "      <td>I have bought several of the Vitality canned d...</td>\n",
       "    </tr>\n",
       "    <tr>\n",
       "      <th>1</th>\n",
       "      <td>2</td>\n",
       "      <td>B00813GRG4</td>\n",
       "      <td>A1D87F6ZCVE5NK</td>\n",
       "      <td>dll pa</td>\n",
       "      <td>0</td>\n",
       "      <td>0</td>\n",
       "      <td>0</td>\n",
       "      <td>1346976000</td>\n",
       "      <td>Not as Advertised</td>\n",
       "      <td>Product arrived labeled as Jumbo Salted Peanut...</td>\n",
       "    </tr>\n",
       "    <tr>\n",
       "      <th>2</th>\n",
       "      <td>3</td>\n",
       "      <td>B000LQOCH0</td>\n",
       "      <td>ABXLMWJIXXAIN</td>\n",
       "      <td>Natalia Corres \"Natalia Corres\"</td>\n",
       "      <td>1</td>\n",
       "      <td>1</td>\n",
       "      <td>1</td>\n",
       "      <td>1219017600</td>\n",
       "      <td>\"Delight\" says it all</td>\n",
       "      <td>This is a confection that has been around a fe...</td>\n",
       "    </tr>\n",
       "  </tbody>\n",
       "</table>\n",
       "</div>"
      ],
      "text/plain": [
       "   Id   ProductId          UserId                      ProfileName  \\\n",
       "0   1  B001E4KFG0  A3SGXH7AUHU8GW                       delmartian   \n",
       "1   2  B00813GRG4  A1D87F6ZCVE5NK                           dll pa   \n",
       "2   3  B000LQOCH0   ABXLMWJIXXAIN  Natalia Corres \"Natalia Corres\"   \n",
       "\n",
       "   HelpfulnessNumerator  HelpfulnessDenominator  Score        Time  \\\n",
       "0                     1                       1      1  1303862400   \n",
       "1                     0                       0      0  1346976000   \n",
       "2                     1                       1      1  1219017600   \n",
       "\n",
       "                 Summary                                               Text  \n",
       "0  Good Quality Dog Food  I have bought several of the Vitality canned d...  \n",
       "1      Not as Advertised  Product arrived labeled as Jumbo Salted Peanut...  \n",
       "2  \"Delight\" says it all  This is a confection that has been around a fe...  "
      ]
     },
     "execution_count": 19,
     "metadata": {},
     "output_type": "execute_result"
    }
   ],
   "source": [
    "\n",
    "connec=sqlite3.connect('database.sqlite')\n",
    "\n",
    "filtered_data= pd.read_sql_query(\"\"\" SELECT * FROM Reviews WHERE Score !=3 LIMIT 10000\"\"\",connec)\n",
    "\n",
    "def partition(x):\n",
    "    if x<3:\n",
    "        return 0;\n",
    "    return 1\n",
    "actualScore=filtered_data['Score']\n",
    "positiveNegative=actualScore.map(partition)\n",
    "filtered_data['Score']=positiveNegative\n",
    "print(\"Number of datapoints in filtered_data:\",filtered_data.shape)\n",
    "filtered_data.head(3)\n"
   ]
  },
  {
   "cell_type": "markdown",
   "id": "53665716",
   "metadata": {},
   "source": [
    "Reviews given by the same UsedId. Lets see those."
   ]
  },
  {
   "cell_type": "code",
   "execution_count": 20,
   "id": "0c609d5b",
   "metadata": {},
   "outputs": [
    {
     "name": "stdout",
     "output_type": "stream",
     "text": [
      "(80668, 7)\n"
     ]
    },
    {
     "data": {
      "text/html": [
       "<div>\n",
       "<style scoped>\n",
       "    .dataframe tbody tr th:only-of-type {\n",
       "        vertical-align: middle;\n",
       "    }\n",
       "\n",
       "    .dataframe tbody tr th {\n",
       "        vertical-align: top;\n",
       "    }\n",
       "\n",
       "    .dataframe thead th {\n",
       "        text-align: right;\n",
       "    }\n",
       "</style>\n",
       "<table border=\"1\" class=\"dataframe\">\n",
       "  <thead>\n",
       "    <tr style=\"text-align: right;\">\n",
       "      <th></th>\n",
       "      <th>UserId</th>\n",
       "      <th>ProductId</th>\n",
       "      <th>ProfileName</th>\n",
       "      <th>Time</th>\n",
       "      <th>Score</th>\n",
       "      <th>Text</th>\n",
       "      <th>COUNT(*)</th>\n",
       "    </tr>\n",
       "  </thead>\n",
       "  <tbody>\n",
       "    <tr>\n",
       "      <th>0</th>\n",
       "      <td>#oc-R115TNMSPFT9I7</td>\n",
       "      <td>B005ZBZLT4</td>\n",
       "      <td>Breyton</td>\n",
       "      <td>1331510400</td>\n",
       "      <td>2</td>\n",
       "      <td>Overall its just OK when considering the price...</td>\n",
       "      <td>2</td>\n",
       "    </tr>\n",
       "    <tr>\n",
       "      <th>1</th>\n",
       "      <td>#oc-R11D9D7SHXIJB9</td>\n",
       "      <td>B005HG9ESG</td>\n",
       "      <td>Louis E. Emory \"hoppy\"</td>\n",
       "      <td>1342396800</td>\n",
       "      <td>5</td>\n",
       "      <td>My wife has recurring extreme muscle spasms, u...</td>\n",
       "      <td>3</td>\n",
       "    </tr>\n",
       "    <tr>\n",
       "      <th>2</th>\n",
       "      <td>#oc-R11DNU2NBKQ23Z</td>\n",
       "      <td>B005ZBZLT4</td>\n",
       "      <td>Kim Cieszykowski</td>\n",
       "      <td>1348531200</td>\n",
       "      <td>1</td>\n",
       "      <td>This coffee is horrible and unfortunately not ...</td>\n",
       "      <td>2</td>\n",
       "    </tr>\n",
       "    <tr>\n",
       "      <th>3</th>\n",
       "      <td>#oc-R11O5J5ZVQE25C</td>\n",
       "      <td>B005HG9ESG</td>\n",
       "      <td>Penguin Chick</td>\n",
       "      <td>1346889600</td>\n",
       "      <td>5</td>\n",
       "      <td>This will be the bottle that you grab from the...</td>\n",
       "      <td>3</td>\n",
       "    </tr>\n",
       "    <tr>\n",
       "      <th>4</th>\n",
       "      <td>#oc-R12KPBODL2B5ZD</td>\n",
       "      <td>B007OSBEV0</td>\n",
       "      <td>Christopher P. Presta</td>\n",
       "      <td>1348617600</td>\n",
       "      <td>1</td>\n",
       "      <td>I didnt like this coffee. Instead of telling y...</td>\n",
       "      <td>2</td>\n",
       "    </tr>\n",
       "  </tbody>\n",
       "</table>\n",
       "</div>"
      ],
      "text/plain": [
       "               UserId   ProductId             ProfileName        Time  Score  \\\n",
       "0  #oc-R115TNMSPFT9I7  B005ZBZLT4                 Breyton  1331510400      2   \n",
       "1  #oc-R11D9D7SHXIJB9  B005HG9ESG  Louis E. Emory \"hoppy\"  1342396800      5   \n",
       "2  #oc-R11DNU2NBKQ23Z  B005ZBZLT4        Kim Cieszykowski  1348531200      1   \n",
       "3  #oc-R11O5J5ZVQE25C  B005HG9ESG           Penguin Chick  1346889600      5   \n",
       "4  #oc-R12KPBODL2B5ZD  B007OSBEV0   Christopher P. Presta  1348617600      1   \n",
       "\n",
       "                                                Text  COUNT(*)  \n",
       "0  Overall its just OK when considering the price...         2  \n",
       "1  My wife has recurring extreme muscle spasms, u...         3  \n",
       "2  This coffee is horrible and unfortunately not ...         2  \n",
       "3  This will be the bottle that you grab from the...         3  \n",
       "4  I didnt like this coffee. Instead of telling y...         2  "
      ]
     },
     "execution_count": 20,
     "metadata": {},
     "output_type": "execute_result"
    }
   ],
   "source": [
    "dupl_review = pd.read_sql_query(\"\"\"\n",
    "SELECT UserId, ProductId, ProfileName, Time, Score, Text, COUNT(*)\n",
    "FROM Reviews\n",
    "GROUP BY UserId\n",
    "HAVING COUNT(*)>1\n",
    "\"\"\", connec)\n",
    "print(dupl_review.shape)\n",
    "dupl_review.head()\n"
   ]
  },
  {
   "cell_type": "code",
   "execution_count": 21,
   "id": "03c7c4e6",
   "metadata": {},
   "outputs": [
    {
     "data": {
      "text/html": [
       "<div>\n",
       "<style scoped>\n",
       "    .dataframe tbody tr th:only-of-type {\n",
       "        vertical-align: middle;\n",
       "    }\n",
       "\n",
       "    .dataframe tbody tr th {\n",
       "        vertical-align: top;\n",
       "    }\n",
       "\n",
       "    .dataframe thead th {\n",
       "        text-align: right;\n",
       "    }\n",
       "</style>\n",
       "<table border=\"1\" class=\"dataframe\">\n",
       "  <thead>\n",
       "    <tr style=\"text-align: right;\">\n",
       "      <th></th>\n",
       "      <th>UserId</th>\n",
       "      <th>ProductId</th>\n",
       "      <th>ProfileName</th>\n",
       "      <th>Time</th>\n",
       "      <th>Score</th>\n",
       "      <th>Text</th>\n",
       "      <th>COUNT(*)</th>\n",
       "    </tr>\n",
       "  </thead>\n",
       "  <tbody>\n",
       "    <tr>\n",
       "      <th>80638</th>\n",
       "      <td>AZY10LLTJ71NX</td>\n",
       "      <td>B001ATMQK2</td>\n",
       "      <td>undertheshrine \"undertheshrine\"</td>\n",
       "      <td>1296691200</td>\n",
       "      <td>5</td>\n",
       "      <td>I bought this 6 pack because for the price tha...</td>\n",
       "      <td>5</td>\n",
       "    </tr>\n",
       "  </tbody>\n",
       "</table>\n",
       "</div>"
      ],
      "text/plain": [
       "              UserId   ProductId                      ProfileName        Time  \\\n",
       "80638  AZY10LLTJ71NX  B001ATMQK2  undertheshrine \"undertheshrine\"  1296691200   \n",
       "\n",
       "       Score                                               Text  COUNT(*)  \n",
       "80638      5  I bought this 6 pack because for the price tha...         5  "
      ]
     },
     "execution_count": 21,
     "metadata": {},
     "output_type": "execute_result"
    }
   ],
   "source": [
    "dupl_review[dupl_review['UserId']=='AZY10LLTJ71NX']"
   ]
  },
  {
   "cell_type": "code",
   "execution_count": 22,
   "id": "997d8c60",
   "metadata": {},
   "outputs": [
    {
     "data": {
      "text/plain": [
       "393063"
      ]
     },
     "execution_count": 22,
     "metadata": {},
     "output_type": "execute_result"
    }
   ],
   "source": [
    "dupl_review['COUNT(*)'].sum()"
   ]
  },
  {
   "cell_type": "markdown",
   "id": "bce149ab",
   "metadata": {},
   "source": [
    "# 2. EDA\n",
    "\n",
    "1. Data Cleaning: Duplication.\n",
    "As we have seen that there are multiple reviews given by the same useId. There may be duplicate entries.We can see in the following table that there are some duplicate entries in the table. Time stamp for the some reviews is same. How it can be possible. So it is necessary to remove these duplicate reviews for unbiased analysis of the data."
   ]
  },
  {
   "cell_type": "code",
   "execution_count": 23,
   "id": "6461d67a",
   "metadata": {},
   "outputs": [
    {
     "data": {
      "text/html": [
       "<div>\n",
       "<style scoped>\n",
       "    .dataframe tbody tr th:only-of-type {\n",
       "        vertical-align: middle;\n",
       "    }\n",
       "\n",
       "    .dataframe tbody tr th {\n",
       "        vertical-align: top;\n",
       "    }\n",
       "\n",
       "    .dataframe thead th {\n",
       "        text-align: right;\n",
       "    }\n",
       "</style>\n",
       "<table border=\"1\" class=\"dataframe\">\n",
       "  <thead>\n",
       "    <tr style=\"text-align: right;\">\n",
       "      <th></th>\n",
       "      <th>Id</th>\n",
       "      <th>ProductId</th>\n",
       "      <th>UserId</th>\n",
       "      <th>ProfileName</th>\n",
       "      <th>HelpfulnessNumerator</th>\n",
       "      <th>HelpfulnessDenominator</th>\n",
       "      <th>Score</th>\n",
       "      <th>Time</th>\n",
       "      <th>Summary</th>\n",
       "      <th>Text</th>\n",
       "    </tr>\n",
       "  </thead>\n",
       "  <tbody>\n",
       "    <tr>\n",
       "      <th>0</th>\n",
       "      <td>78445</td>\n",
       "      <td>B000HDL1RQ</td>\n",
       "      <td>AR5J8UI46CURR</td>\n",
       "      <td>Geetha Krishnan</td>\n",
       "      <td>2</td>\n",
       "      <td>2</td>\n",
       "      <td>5</td>\n",
       "      <td>1199577600</td>\n",
       "      <td>LOACKER QUADRATINI VANILLA WAFERS</td>\n",
       "      <td>DELICIOUS WAFERS. I FIND THAT EUROPEAN WAFERS ...</td>\n",
       "    </tr>\n",
       "    <tr>\n",
       "      <th>1</th>\n",
       "      <td>138317</td>\n",
       "      <td>B000HDOPYC</td>\n",
       "      <td>AR5J8UI46CURR</td>\n",
       "      <td>Geetha Krishnan</td>\n",
       "      <td>2</td>\n",
       "      <td>2</td>\n",
       "      <td>5</td>\n",
       "      <td>1199577600</td>\n",
       "      <td>LOACKER QUADRATINI VANILLA WAFERS</td>\n",
       "      <td>DELICIOUS WAFERS. I FIND THAT EUROPEAN WAFERS ...</td>\n",
       "    </tr>\n",
       "    <tr>\n",
       "      <th>2</th>\n",
       "      <td>138277</td>\n",
       "      <td>B000HDOPYM</td>\n",
       "      <td>AR5J8UI46CURR</td>\n",
       "      <td>Geetha Krishnan</td>\n",
       "      <td>2</td>\n",
       "      <td>2</td>\n",
       "      <td>5</td>\n",
       "      <td>1199577600</td>\n",
       "      <td>LOACKER QUADRATINI VANILLA WAFERS</td>\n",
       "      <td>DELICIOUS WAFERS. I FIND THAT EUROPEAN WAFERS ...</td>\n",
       "    </tr>\n",
       "    <tr>\n",
       "      <th>3</th>\n",
       "      <td>73791</td>\n",
       "      <td>B000HDOPZG</td>\n",
       "      <td>AR5J8UI46CURR</td>\n",
       "      <td>Geetha Krishnan</td>\n",
       "      <td>2</td>\n",
       "      <td>2</td>\n",
       "      <td>5</td>\n",
       "      <td>1199577600</td>\n",
       "      <td>LOACKER QUADRATINI VANILLA WAFERS</td>\n",
       "      <td>DELICIOUS WAFERS. I FIND THAT EUROPEAN WAFERS ...</td>\n",
       "    </tr>\n",
       "    <tr>\n",
       "      <th>4</th>\n",
       "      <td>155049</td>\n",
       "      <td>B000PAQ75C</td>\n",
       "      <td>AR5J8UI46CURR</td>\n",
       "      <td>Geetha Krishnan</td>\n",
       "      <td>2</td>\n",
       "      <td>2</td>\n",
       "      <td>5</td>\n",
       "      <td>1199577600</td>\n",
       "      <td>LOACKER QUADRATINI VANILLA WAFERS</td>\n",
       "      <td>DELICIOUS WAFERS. I FIND THAT EUROPEAN WAFERS ...</td>\n",
       "    </tr>\n",
       "  </tbody>\n",
       "</table>\n",
       "</div>"
      ],
      "text/plain": [
       "       Id   ProductId         UserId      ProfileName  HelpfulnessNumerator  \\\n",
       "0   78445  B000HDL1RQ  AR5J8UI46CURR  Geetha Krishnan                     2   \n",
       "1  138317  B000HDOPYC  AR5J8UI46CURR  Geetha Krishnan                     2   \n",
       "2  138277  B000HDOPYM  AR5J8UI46CURR  Geetha Krishnan                     2   \n",
       "3   73791  B000HDOPZG  AR5J8UI46CURR  Geetha Krishnan                     2   \n",
       "4  155049  B000PAQ75C  AR5J8UI46CURR  Geetha Krishnan                     2   \n",
       "\n",
       "   HelpfulnessDenominator  Score        Time  \\\n",
       "0                       2      5  1199577600   \n",
       "1                       2      5  1199577600   \n",
       "2                       2      5  1199577600   \n",
       "3                       2      5  1199577600   \n",
       "4                       2      5  1199577600   \n",
       "\n",
       "                             Summary  \\\n",
       "0  LOACKER QUADRATINI VANILLA WAFERS   \n",
       "1  LOACKER QUADRATINI VANILLA WAFERS   \n",
       "2  LOACKER QUADRATINI VANILLA WAFERS   \n",
       "3  LOACKER QUADRATINI VANILLA WAFERS   \n",
       "4  LOACKER QUADRATINI VANILLA WAFERS   \n",
       "\n",
       "                                                Text  \n",
       "0  DELICIOUS WAFERS. I FIND THAT EUROPEAN WAFERS ...  \n",
       "1  DELICIOUS WAFERS. I FIND THAT EUROPEAN WAFERS ...  \n",
       "2  DELICIOUS WAFERS. I FIND THAT EUROPEAN WAFERS ...  \n",
       "3  DELICIOUS WAFERS. I FIND THAT EUROPEAN WAFERS ...  \n",
       "4  DELICIOUS WAFERS. I FIND THAT EUROPEAN WAFERS ...  "
      ]
     },
     "execution_count": 23,
     "metadata": {},
     "output_type": "execute_result"
    }
   ],
   "source": [
    "display= pd.read_sql_query(\"\"\"\n",
    "SELECT *\n",
    "FROM Reviews\n",
    "WHERE Score != 3 AND UserId=\"AR5J8UI46CURR\"\n",
    "ORDER BY ProductID\n",
    "\"\"\", connec)\n",
    "display.head()"
   ]
  },
  {
   "cell_type": "code",
   "execution_count": 24,
   "id": "13525b67",
   "metadata": {},
   "outputs": [
    {
     "data": {
      "text/plain": [
       "(9564, 10)"
      ]
     },
     "execution_count": 24,
     "metadata": {},
     "output_type": "execute_result"
    }
   ],
   "source": [
    "sorted_data=filtered_data.sort_values('ProductId',axis=0, ascending=True, inplace=False, kind='quicksort',na_position='last')\n",
    "final=sorted_data.drop_duplicates(subset={\"UserId\",\"ProfileName\",\"Time\",\"Text\"},keep='first',inplace=False)\n",
    "final.shape"
   ]
  },
  {
   "cell_type": "code",
   "execution_count": 25,
   "id": "5180b5ee",
   "metadata": {},
   "outputs": [
    {
     "data": {
      "text/plain": [
       "95.64"
      ]
     },
     "execution_count": 25,
     "metadata": {},
     "output_type": "execute_result"
    }
   ],
   "source": [
    "#How much data remains\n",
    "(final['Id'].size*1.0)/(filtered_data['Id'].size*1)*100"
   ]
  },
  {
   "cell_type": "markdown",
   "id": "3b024a26",
   "metadata": {},
   "source": [
    "It is also observed that for some reviews the HelpfulnessNumerator is greater than HelpfulnessDenominator (see the following table), which is not possible (by the definitions of these features).Hence the rows with such contradictory values of these two features must be removed."
   ]
  },
  {
   "cell_type": "code",
   "execution_count": 26,
   "id": "3b5c2d72",
   "metadata": {},
   "outputs": [
    {
     "data": {
      "text/html": [
       "<div>\n",
       "<style scoped>\n",
       "    .dataframe tbody tr th:only-of-type {\n",
       "        vertical-align: middle;\n",
       "    }\n",
       "\n",
       "    .dataframe tbody tr th {\n",
       "        vertical-align: top;\n",
       "    }\n",
       "\n",
       "    .dataframe thead th {\n",
       "        text-align: right;\n",
       "    }\n",
       "</style>\n",
       "<table border=\"1\" class=\"dataframe\">\n",
       "  <thead>\n",
       "    <tr style=\"text-align: right;\">\n",
       "      <th></th>\n",
       "      <th>Id</th>\n",
       "      <th>ProductId</th>\n",
       "      <th>UserId</th>\n",
       "      <th>ProfileName</th>\n",
       "      <th>HelpfulnessNumerator</th>\n",
       "      <th>HelpfulnessDenominator</th>\n",
       "      <th>Score</th>\n",
       "      <th>Time</th>\n",
       "      <th>Summary</th>\n",
       "      <th>Text</th>\n",
       "    </tr>\n",
       "  </thead>\n",
       "  <tbody>\n",
       "    <tr>\n",
       "      <th>0</th>\n",
       "      <td>64422</td>\n",
       "      <td>B000MIDROQ</td>\n",
       "      <td>A161DK06JJMCYF</td>\n",
       "      <td>J. E. Stephens \"Jeanne\"</td>\n",
       "      <td>3</td>\n",
       "      <td>1</td>\n",
       "      <td>5</td>\n",
       "      <td>1224892800</td>\n",
       "      <td>Bought This for My Son at College</td>\n",
       "      <td>My son loves spaghetti so I didn't hesitate or...</td>\n",
       "    </tr>\n",
       "    <tr>\n",
       "      <th>1</th>\n",
       "      <td>44737</td>\n",
       "      <td>B001EQ55RW</td>\n",
       "      <td>A2V0I904FH7ABY</td>\n",
       "      <td>Ram</td>\n",
       "      <td>3</td>\n",
       "      <td>2</td>\n",
       "      <td>4</td>\n",
       "      <td>1212883200</td>\n",
       "      <td>Pure cocoa taste with crunchy almonds inside</td>\n",
       "      <td>It was almost a 'love at first bite' - the per...</td>\n",
       "    </tr>\n",
       "  </tbody>\n",
       "</table>\n",
       "</div>"
      ],
      "text/plain": [
       "      Id   ProductId          UserId              ProfileName  \\\n",
       "0  64422  B000MIDROQ  A161DK06JJMCYF  J. E. Stephens \"Jeanne\"   \n",
       "1  44737  B001EQ55RW  A2V0I904FH7ABY                      Ram   \n",
       "\n",
       "   HelpfulnessNumerator  HelpfulnessDenominator  Score        Time  \\\n",
       "0                     3                       1      5  1224892800   \n",
       "1                     3                       2      4  1212883200   \n",
       "\n",
       "                                        Summary  \\\n",
       "0             Bought This for My Son at College   \n",
       "1  Pure cocoa taste with crunchy almonds inside   \n",
       "\n",
       "                                                Text  \n",
       "0  My son loves spaghetti so I didn't hesitate or...  \n",
       "1  It was almost a 'love at first bite' - the per...  "
      ]
     },
     "execution_count": 26,
     "metadata": {},
     "output_type": "execute_result"
    }
   ],
   "source": [
    "display= pd.read_sql_query(\"\"\"\n",
    "SELECT *\n",
    "FROM Reviews\n",
    "WHERE Score != 3 AND Id=44737 OR Id=64422\n",
    "ORDER BY ProductID\n",
    "\"\"\", connec)\n",
    "\n",
    "display.head()"
   ]
  },
  {
   "cell_type": "code",
   "execution_count": 27,
   "id": "ceccd215",
   "metadata": {},
   "outputs": [
    {
     "name": "stdout",
     "output_type": "stream",
     "text": [
      "(9564, 10)\n"
     ]
    }
   ],
   "source": [
    "#Removing such rows\n",
    "final=final[final.HelpfulnessNumerator <= final.HelpfulnessDenominator]\n",
    "print(final.shape)"
   ]
  },
  {
   "cell_type": "code",
   "execution_count": 28,
   "id": "d2529fcf",
   "metadata": {},
   "outputs": [
    {
     "data": {
      "text/plain": [
       "1    7976\n",
       "0    1588\n",
       "Name: Score, dtype: int64"
      ]
     },
     "execution_count": 28,
     "metadata": {},
     "output_type": "execute_result"
    }
   ],
   "source": [
    "final['Score'].value_counts()"
   ]
  },
  {
   "cell_type": "markdown",
   "id": "6d5c7de0",
   "metadata": {},
   "source": [
    "# 3.1 Text PreProcessing\n",
    "After above steps, our data requires some preprocessing before making further analysis and prediction model. In the preprocessing step, we remove stop words, html tags and punctuations or special characters. Also we convert words to lower case and check if it is not alphanumeric and has length greater than 2.    \n"
   ]
  },
  {
   "cell_type": "code",
   "execution_count": 37,
   "id": "6b1306fc",
   "metadata": {},
   "outputs": [
    {
     "name": "stdout",
     "output_type": "stream",
     "text": [
      "We have used the Victor fly bait for 3 seasons.  Can't beat it.  Great product!\n",
      "==================================================\n",
      "Why is this $[...] when the same product is available for $[...] here?<br />http://www.amazon.com/VICTOR-FLY-MAGNET-BAIT-REFILL/dp/B00004RBDY<br /><br />The Victor M380 and M502 traps are unreal, of course -- total fly genocide. Pretty stinky, but only right nearby.\n",
      "==================================================\n",
      "Adzuki ( or Azuki) beans are ment to be used in asian sweets. You can make sweet bean paste by boiling the beans for 30-40 min, (changing the water out at least twice) draining and mashing the beans with sugar.(strain the paste if you do not like the bean skins)  What you get is a paste that can be put on ice cream, fill pasteries or stuff into Mochi Cakes.\n",
      "==================================================\n",
      "These chips taste awesome. And unlike most other flavored chips, they actually make sure that plenty of the flavory salty goodness gets on each individual chip. Just don't pass gas near any pretty ladies after consumption. They'll totally know it was you.\n",
      "==================================================\n",
      "These tablets definitely made things sweeter -- like lemons, limes, and grapefruit.  But it wasn't to the point of sheer amazement.  They also had an interesting effect on cheeses and vinegar, but still did virtually nothing for beer and wine. The tablets are a bit pricey but they do work.  If you've got extra money, sure, give them a try, but if you're looking for some amazing way to get your kids to eat broccoli or something along those lines then this is not the answer. Fun experiment, but not life-changing. :)\n",
      "==================================================\n",
      "I bought this because the ingredients seem to be ok but for some reason it made my dogs have to go outside at least 3 times each night, overnight for the 2 weeks we gave this to them.  We changed back to Origen, a food they do well on and the middle of the night bathroom trips stopped in 2 days. Also, my older dog tends to get really \"diggy\" when she is eating something not good for her and with this food she was constantly digging at the couch!  I have no idea what is wrong with this food, none of the ingredients stand out to me as being the cause but something in it really messed my puggies up!\n",
      "==================================================\n",
      "I started drinking the power slim tea when I was on the HCG diet to help curb cravings. Since I liked it so well, I tried some of the others and I am now hooked!  They are so satisfying that I drink them all the time.  The Energy gives you that extra pick-me-up in the afternoons that helps keep me going all day, no matter how long.\n",
      "==================================================\n",
      "This one will not disappoint!  I got this yesterday and my husband and I tried it this morning with breakfast and we both loved it.  I have gotten many different kinds of the k-cups to try but after trying this one, I think I could be happy with just this one and black tiger for those mornings when I want a really strong cup of coffee.  The rodeo drive blend is delicious with a nice round feel on the palate and an interesting flavor on the finish with just a hint of smokiness.  Perfectly balanced and absolutely wonderful!  Plus, I have to admit...I love the label. The different color looks very appealing on my carousel with the other k-cups.\n",
      "==================================================\n",
      "Really very good. Taste is great, no weird artificial taste, no little bitty grounds floating about. This is not crunchy brown water, but an actual cup of coffee. I make it in the microwave and it's great. Get the 10 pack for 9.95 and it's less than $1/cup.\n",
      "==================================================\n",
      "Very good hot cocoa.  And price was right<br /><br />Awesome and passing the word on the item.  Will buy it again\n",
      "==================================================\n"
     ]
    }
   ],
   "source": [
    "# Printing some random reviews\n",
    "sent_1=final['Text'].values[0]\n",
    "print(sent_1)\n",
    "print(\"=\"*50)\n",
    "\n",
    "sent_2=final['Text'].values[1]\n",
    "print(sent_2)\n",
    "print(\"=\"*50)\n",
    "\n",
    "sent_100=final['Text'].values[100]\n",
    "print(sent_100)\n",
    "print(\"=\"*50)\n",
    "\n",
    "sent_1580=final['Text'].values[1580]\n",
    "print(sent_1580)\n",
    "print(\"=\"*50)\n",
    "\n",
    "sent_4900=final['Text'].values[4900]\n",
    "print(sent_4900)\n",
    "print(\"=\"*50)\n",
    "\n",
    "sent_5500=final['Text'].values[5500]\n",
    "print(sent_5500)\n",
    "print(\"=\"*50)\n",
    "\n",
    "sent_7000=final['Text'].values[7000]\n",
    "print(sent_7000)\n",
    "print(\"=\"*50)\n",
    "\n",
    "sent_7500=final['Text'].values[7500]\n",
    "print(sent_7500)\n",
    "print(\"=\"*50)\n",
    "\n",
    "sent_8500=final['Text'].values[8500]\n",
    "print(sent_8500)\n",
    "print(\"=\"*50)\n",
    "\n",
    "sent_9000=final['Text'].values[9000]\n",
    "print(sent_9000)\n",
    "print(\"=\"*50)"
   ]
  },
  {
   "cell_type": "code",
   "execution_count": 38,
   "id": "48d4bd25",
   "metadata": {},
   "outputs": [
    {
     "name": "stdout",
     "output_type": "stream",
     "text": [
      "Why is this $[...] when the same product is available for $[...] here?<br /> /><br />The Victor M380 and M502 traps are unreal, of course -- total fly genocide. Pretty stinky, but only right nearby.\n"
     ]
    }
   ],
   "source": [
    "# Remove urls from text.\n",
    "sent_1 = re.sub(r\"http\\S+\", \"\", sent_1)\n",
    "sent_2 = re.sub(r\"http\\S+\", \"\", sent_2)\n",
    "sent_100 = re.sub(r\"http\\S+\", \"\", sent_100)\n",
    "sent_1580 = re.sub(r\"http\\S+\", \"\", sent_1580)\n",
    "sent_4900 = re.sub(r\"http\\S+\", \"\", sent_4900)\n",
    "sent_5500 = re.sub(r\"http\\S+\", \"\", sent_5500)\n",
    "sent_7000 = re.sub(r\"http\\S+\", \"\", sent_7000)\n",
    "sent_7500 = re.sub(r\"http\\S+\", \"\", sent_7500)\n",
    "sent_8500 = re.sub(r\"http\\S+\", \"\", sent_8500)\n",
    "sent_9000 = re.sub(r\"http\\S+\", \"\", sent_9000)\n",
    "\n",
    "print(sent_2)"
   ]
  },
  {
   "cell_type": "code",
   "execution_count": 41,
   "id": "992140ab",
   "metadata": {},
   "outputs": [
    {
     "name": "stdout",
     "output_type": "stream",
     "text": [
      "We have used the Victor fly bait for 3 seasons.  Can't beat it.  Great product!\n",
      "==================================================\n",
      "Why is this $[...] when the same product is available for $[...] here? />The Victor M380 and M502 traps are unreal, of course -- total fly genocide. Pretty stinky, but only right nearby.\n",
      "==================================================\n",
      "Adzuki ( or Azuki) beans are ment to be used in asian sweets. You can make sweet bean paste by boiling the beans for 30-40 min, (changing the water out at least twice) draining and mashing the beans with sugar.(strain the paste if you do not like the bean skins)  What you get is a paste that can be put on ice cream, fill pasteries or stuff into Mochi Cakes.\n",
      "==================================================\n",
      "These chips taste awesome. And unlike most other flavored chips, they actually make sure that plenty of the flavory salty goodness gets on each individual chip. Just don't pass gas near any pretty ladies after consumption. They'll totally know it was you.\n",
      "==================================================\n",
      "These tablets definitely made things sweeter -- like lemons, limes, and grapefruit.  But it wasn't to the point of sheer amazement.  They also had an interesting effect on cheeses and vinegar, but still did virtually nothing for beer and wine. The tablets are a bit pricey but they do work.  If you've got extra money, sure, give them a try, but if you're looking for some amazing way to get your kids to eat broccoli or something along those lines then this is not the answer. Fun experiment, but not life-changing. :)\n",
      "==================================================\n",
      "I bought this because the ingredients seem to be ok but for some reason it made my dogs have to go outside at least 3 times each night, overnight for the 2 weeks we gave this to them.  We changed back to Origen, a food they do well on and the middle of the night bathroom trips stopped in 2 days. Also, my older dog tends to get really \"diggy\" when she is eating something not good for her and with this food she was constantly digging at the couch!  I have no idea what is wrong with this food, none of the ingredients stand out to me as being the cause but something in it really messed my puggies up!\n",
      "==================================================\n",
      "I started drinking the power slim tea when I was on the HCG diet to help curb cravings. Since I liked it so well, I tried some of the others and I am now hooked!  They are so satisfying that I drink them all the time.  The Energy gives you that extra pick-me-up in the afternoons that helps keep me going all day, no matter how long.\n",
      "==================================================\n",
      "This one will not disappoint!  I got this yesterday and my husband and I tried it this morning with breakfast and we both loved it.  I have gotten many different kinds of the k-cups to try but after trying this one, I think I could be happy with just this one and black tiger for those mornings when I want a really strong cup of coffee.  The rodeo drive blend is delicious with a nice round feel on the palate and an interesting flavor on the finish with just a hint of smokiness.  Perfectly balanced and absolutely wonderful!  Plus, I have to admit...I love the label. The different color looks very appealing on my carousel with the other k-cups.\n",
      "==================================================\n",
      "Really very good. Taste is great, no weird artificial taste, no little bitty grounds floating about. This is not crunchy brown water, but an actual cup of coffee. I make it in the microwave and it's great. Get the 10 pack for 9.95 and it's less than $1/cup.\n",
      "==================================================\n",
      "Very good hot cocoa.  And price was rightAwesome and passing the word on the item.  Will buy it again\n",
      "==================================================\n"
     ]
    }
   ],
   "source": [
    "#beautifulSoup-how-to-remove-all-tags-from-an-element\n",
    "\n",
    "from bs4 import BeautifulSoup\n",
    "soup=BeautifulSoup(sent_1, 'lxml');\n",
    "text=soup.get_text();\n",
    "print(text)\n",
    "print(\"=\"*50)\n",
    "\n",
    "soup=BeautifulSoup(sent_2, 'lxml');\n",
    "text=soup.get_text();\n",
    "print(text)\n",
    "print(\"=\"*50)\n",
    "\n",
    "soup=BeautifulSoup(sent_100, 'lxml');\n",
    "text=soup.get_text();\n",
    "print(text)\n",
    "print(\"=\"*50)\n",
    "\n",
    "soup=BeautifulSoup(sent_1580, 'lxml');\n",
    "text=soup.get_text();\n",
    "print(text)\n",
    "print(\"=\"*50)\n",
    "\n",
    "soup=BeautifulSoup(sent_4900, 'lxml');\n",
    "text=soup.get_text();\n",
    "print(text)\n",
    "print(\"=\"*50)\n",
    "\n",
    "soup=BeautifulSoup(sent_5500, 'lxml');\n",
    "text=soup.get_text();\n",
    "print(text)\n",
    "print(\"=\"*50)\n",
    "\n",
    "soup=BeautifulSoup(sent_7000, 'lxml');\n",
    "text=soup.get_text();\n",
    "print(text)\n",
    "print(\"=\"*50)\n",
    "\n",
    "soup=BeautifulSoup(sent_7500, 'lxml');\n",
    "text=soup.get_text();\n",
    "print(text)\n",
    "print(\"=\"*50)\n",
    "\n",
    "soup=BeautifulSoup(sent_8500, 'lxml');\n",
    "text=soup.get_text();\n",
    "print(text)\n",
    "print(\"=\"*50)\n",
    "\n",
    "soup=BeautifulSoup(sent_9000, 'lxml');\n",
    "text=soup.get_text();\n",
    "print(text)\n",
    "print(\"=\"*50)\n",
    "\n"
   ]
  },
  {
   "cell_type": "code",
   "execution_count": 42,
   "id": "d235b475",
   "metadata": {},
   "outputs": [],
   "source": [
    "#Replace some short form of words with full words, by the following function:\n",
    "\n",
    "def decontracted(phrase):\n",
    "    # specific\n",
    "    phrase = re.sub(r\"won\\'t\", \"will not\", phrase)\n",
    "    phrase = re.sub(r\"can\\'t\", \"can not\", phrase)\n",
    "\n",
    "    # general\n",
    "    phrase = re.sub(r\"n\\'t\", \" not\", phrase)\n",
    "    phrase = re.sub(r\"\\'re\", \" are\", phrase)\n",
    "    phrase = re.sub(r\"\\'s\", \" is\", phrase)\n",
    "    phrase = re.sub(r\"\\'d\", \" would\", phrase)\n",
    "    phrase = re.sub(r\"\\'ll\", \" will\", phrase)\n",
    "    phrase = re.sub(r\"\\'t\", \" not\", phrase)\n",
    "    phrase = re.sub(r\"\\'ve\", \" have\", phrase)\n",
    "    phrase = re.sub(r\"\\'m\", \" am\", phrase)\n",
    "    return phrase"
   ]
  },
  {
   "cell_type": "code",
   "execution_count": 44,
   "id": "339c3495",
   "metadata": {},
   "outputs": [
    {
     "name": "stdout",
     "output_type": "stream",
     "text": [
      "We have used the Victor fly bait for 3 seasons.  Ca not beat it.  Great product!\n",
      "==================================================\n",
      "These chips taste awesome. And unlike most other flavored chips, they actually make sure that plenty of the flavory salty goodness gets on each individual chip. Just do not pass gas near any pretty ladies after consumption. They will totally know it was you.\n",
      "==================================================\n"
     ]
    }
   ],
   "source": [
    "sent_1=decontracted(sent_1)\n",
    "print(sent_1)\n",
    "print(\"=\"*50)\n",
    "\n",
    "sent_1580=decontracted(sent_1580)\n",
    "print(sent_1580)\n",
    "print(\"=\"*50)\n"
   ]
  },
  {
   "cell_type": "code",
   "execution_count": 47,
   "id": "c1e1b9e6",
   "metadata": {},
   "outputs": [
    {
     "name": "stdout",
     "output_type": "stream",
     "text": [
      "Why is this $[...] when the same product is available for $[...] here?<br /> /><br />The Victor  and  traps are unreal, of course -- total fly genocide. Pretty stinky, but only right nearby.\n"
     ]
    }
   ],
   "source": [
    "#Remove words with numbers:\n",
    "sent_2 = re.sub(\"\\S*\\d\\S*\", \"\", sent_2).strip()\n",
    "print(sent_2)"
   ]
  },
  {
   "cell_type": "code",
   "execution_count": 48,
   "id": "b5e5b3e9",
   "metadata": {},
   "outputs": [
    {
     "name": "stdout",
     "output_type": "stream",
     "text": [
      "Why is this when the same product is available for here br br The Victor and traps are unreal of course total fly genocide Pretty stinky but only right nearby \n"
     ]
    }
   ],
   "source": [
    "#Remove spacial character:\n",
    "sent_2 = re.sub('[^A-Za-z0-9]+', ' ', sent_2)\n",
    "print(sent_2)"
   ]
  },
  {
   "cell_type": "markdown",
   "id": "b2b697cf",
   "metadata": {},
   "source": [
    "we are removing the words from the stop words list: 'no', 'nor', 'not'\n",
    "<br /><br /> ==> after the above steps, we are getting \"br br\"\n",
    "we are including them into stop words list\n",
    "instead of <br /> if we have <br/> these tags would have revmoved in the 1st step"
   ]
  },
  {
   "cell_type": "code",
   "execution_count": 49,
   "id": "7da2307c",
   "metadata": {},
   "outputs": [],
   "source": [
    "#Source:https://gist.github.com/sebleier/554280\n",
    "stopwords= set(['br', 'the', 'i', 'me', 'my', 'myself', 'we', 'our', 'ours', 'ourselves', 'you', \"you're\", \"you've\",\\\n",
    "            \"you'll\", \"you'd\", 'your', 'yours', 'yourself', 'yourselves', 'he', 'him', 'his', 'himself', \\\n",
    "            'she', \"she's\", 'her', 'hers', 'herself', 'it', \"it's\", 'its', 'itself', 'they', 'them', 'their',\\\n",
    "            'theirs', 'themselves', 'what', 'which', 'who', 'whom', 'this', 'that', \"that'll\", 'these', 'those', \\\n",
    "            'am', 'is', 'are', 'was', 'were', 'be', 'been', 'being', 'have', 'has', 'had', 'having', 'do', 'does', \\\n",
    "            'did', 'doing', 'a', 'an', 'the', 'and', 'but', 'if', 'or', 'because', 'as', 'until', 'while', 'of', \\\n",
    "            'at', 'by', 'for', 'with', 'about', 'against', 'between', 'into', 'through', 'during', 'before', 'after',\\\n",
    "            'above', 'below', 'to', 'from', 'up', 'down', 'in', 'out', 'on', 'off', 'over', 'under', 'again', 'further',\\\n",
    "            'then', 'once', 'here', 'there', 'when', 'where', 'why', 'how', 'all', 'any', 'both', 'each', 'few', 'more',\\\n",
    "            'most', 'other', 'some', 'such', 'only', 'own', 'same', 'so', 'than', 'too', 'very', \\\n",
    "            's', 't', 'can', 'will', 'just', 'don', \"don't\", 'should', \"should've\", 'now', 'd', 'll', 'm', 'o', 're', \\\n",
    "            've', 'y', 'ain', 'aren', \"aren't\", 'couldn', \"couldn't\", 'didn', \"didn't\", 'doesn', \"doesn't\", 'hadn',\\\n",
    "            \"hadn't\", 'hasn', \"hasn't\", 'haven', \"haven't\", 'isn', \"isn't\", 'ma', 'mightn', \"mightn't\", 'mustn',\\\n",
    "            \"mustn't\", 'needn', \"needn't\", 'shan', \"shan't\", 'shouldn', \"shouldn't\", 'wasn', \"wasn't\", 'weren', \"weren't\", \\\n",
    "            'won', \"won't\", 'wouldn', \"wouldn't\"])"
   ]
  },
  {
   "cell_type": "code",
   "execution_count": 50,
   "id": "d22bfa12",
   "metadata": {},
   "outputs": [
    {
     "name": "stderr",
     "output_type": "stream",
     "text": [
      "100%|█████████████████████████████████████| 9564/9564 [00:03<00:00, 2608.52it/s]\n"
     ]
    }
   ],
   "source": [
    "# Combining all the above changes. \n",
    "\n",
    "from tqdm import tqdm\n",
    "preprocessed_reviews = []\n",
    "# tqdm is for printing the status bar\n",
    "for sentc in tqdm(final['Text'].values):\n",
    "    sentc = re.sub(r\"http\\S+\", \"\", sentc)\n",
    "    sentc = BeautifulSoup(sentc, 'lxml').get_text()\n",
    "    sentc = decontracted(sentc)\n",
    "    sentc = re.sub(\"\\S*\\d\\S*\", \"\", sentc).strip()\n",
    "    sentc = re.sub('[^A-Za-z]+', ' ', sentc)\n",
    "    sentc = ' '.join(e.lower() for e in sentc.split() if e.lower() not in stopwords)\n",
    "    preprocessed_reviews.append(sentc.strip())"
   ]
  },
  {
   "cell_type": "code",
   "execution_count": 53,
   "id": "374ec19f",
   "metadata": {},
   "outputs": [
    {
     "name": "stdout",
     "output_type": "stream",
     "text": [
      "received shipment could hardly wait try product love slickers call instead stickers removed easily daughter designed signs printed reverse use car windows printed beautifully print shop program going lot fun product windows everywhere surfaces like tv screens computer monitors\n",
      "==================================================\n",
      "chips taste awesome unlike flavored chips actually make sure plenty flavory salty goodness gets individual chip not pass gas near pretty ladies consumption totally know\n"
     ]
    }
   ],
   "source": [
    "print(preprocessed_reviews[2])\n",
    "print(\"=\"*50)\n",
    "print(preprocessed_reviews[1580])\n"
   ]
  },
  {
   "cell_type": "markdown",
   "id": "a50ab6b9",
   "metadata": {},
   "source": [
    "# 3.2 Preprocessing Summary"
   ]
  },
  {
   "cell_type": "code",
   "execution_count": 54,
   "id": "99ead6fd",
   "metadata": {},
   "outputs": [
    {
     "name": "stderr",
     "output_type": "stream",
     "text": [
      "100%|█████████████████████████████████████| 9564/9564 [00:01<00:00, 5151.44it/s]\n"
     ]
    }
   ],
   "source": [
    "#By following the above steps for summary, we can preprocess the Summary column.\n",
    "preprocessed_summary = []\n",
    "for sentc in tqdm(final['Summary'].values):\n",
    "    sentc = re.sub(r\"http\\S+\", \"\", sentc)\n",
    "    sentc = BeautifulSoup(sentc, 'lxml').get_text()\n",
    "    sentc = decontracted(sentc)\n",
    "    sentc = re.sub(\"\\S*\\d\\S*\", \"\", sentc).strip()\n",
    "    sentc = re.sub('[^A-Za-z]+', ' ', sentc)\n",
    "    sentc = ' '.join(e.lower() for e in sentc.split() if e.lower() not in stopwords)\n",
    "    preprocessed_summary.append(sentc.strip())"
   ]
  },
  {
   "cell_type": "code",
   "execution_count": 56,
   "id": "cec228dc",
   "metadata": {},
   "outputs": [
    {
     "name": "stdout",
     "output_type": "stream",
     "text": [
      "thirty bucks\n",
      "==================================================\n",
      "adzuki beans\n",
      "==================================================\n",
      "much flavor farts smell like sweet onions\n",
      "==================================================\n",
      "pretty cool not life changing\n",
      "==================================================\n",
      "taste great\n",
      "==================================================\n",
      "delicious\n",
      "==================================================\n"
     ]
    }
   ],
   "source": [
    "print(preprocessed_summary[1])\n",
    "print(\"=\"*50)\n",
    "print(preprocessed_summary[100])\n",
    "print(\"=\"*50)\n",
    "print(preprocessed_summary[1580])\n",
    "print(\"=\"*50)\n",
    "print(preprocessed_summary[4900])\n",
    "print(\"=\"*50)\n",
    "print(preprocessed_summary[9000])\n",
    "print(\"=\"*50)\n",
    "print(preprocessed_summary[9563])\n",
    "print(\"=\"*50)"
   ]
  },
  {
   "cell_type": "markdown",
   "id": "7347ae53",
   "metadata": {},
   "source": [
    "# 4 Feature Engineering:\n",
    "    "
   ]
  },
  {
   "cell_type": "markdown",
   "id": "659f6bbf",
   "metadata": {},
   "source": [
    "# 4.1 Converting Reviews and Summary into Numerical Vector"
   ]
  },
  {
   "cell_type": "code",
   "execution_count": 64,
   "id": "bd281eb6",
   "metadata": {},
   "outputs": [
    {
     "name": "stdout",
     "output_type": "stream",
     "text": [
      "Some features names  ['aa', 'aaaa', 'aahhhs', 'ab', 'aback', 'abandon', 'abates', 'abberline', 'abbott', 'abby']\n",
      "==================================================\n",
      "The type of count_vectorizer  <class 'scipy.sparse._csr.csr_matrix'>\n",
      "The shape of BoW vectorizer  (9564, 18244)\n",
      "The number of unique words  18244\n",
      "  (0, 1007)\t1\n",
      "  (0, 3612)\t1\n",
      "  (0, 6183)\t1\n",
      "  (0, 6648)\t1\n",
      "  (0, 10473)\t1\n",
      "  (0, 12286)\t1\n",
      "  (0, 12388)\t1\n",
      "  (0, 13523)\t1\n",
      "  (0, 15363)\t1\n",
      "  (0, 16572)\t1\n",
      "  (0, 16674)\t1\n",
      "  (0, 17090)\t1\n",
      "  (0, 17396)\t1\n"
     ]
    }
   ],
   "source": [
    "#BoW for reviews\n",
    "count_vect=CountVectorizer()\n",
    "count_vect.fit(preprocessed_reviews)\n",
    "print(\"Some features names \",count_vect.get_feature_names()[:10])\n",
    "print(\"=\"*50)\n",
    "\n",
    "final_count=count_vect.transform(preprocessed_reviews)\n",
    "print(\"The type of count_vectorizer \",type(final_count))\n",
    "print(\"The shape of BoW vectorizer \", final_count.get_shape())\n",
    "print(\"The number of unique words \",final_count.get_shape()[1])\n",
    "print(final_count[1,:])\n"
   ]
  },
  {
   "cell_type": "code",
   "execution_count": 59,
   "id": "0dbc2463",
   "metadata": {},
   "outputs": [
    {
     "name": "stdout",
     "output_type": "stream",
     "text": [
      "Some features names in Summary_df  ['aaaarrrrrgggghhhhh', 'able', 'absolute', 'absolutel', 'absolutely', 'absotively', 'acai', 'acceptable', 'accidents', 'according']\n",
      "==================================================\n",
      "The type of count_vectorizer in summary_df   <class 'scipy.sparse._csr.csr_matrix'>\n",
      "The shape of BoW vectorizer in summary_df  (9564, 4321)\n",
      "The number of unique words in summary_df   4321\n"
     ]
    }
   ],
   "source": [
    "# BoW for Summary\n",
    "count_vect_sum=CountVectorizer()\n",
    "count_vect_sum.fit(preprocessed_summary)\n",
    "print(\"Some features names in Summary_df \",count_vect_sum.get_feature_names()[:10])\n",
    "print(\"=\"*50)\n",
    "\n",
    "final_count_summary=count_vect_sum.transform(preprocessed_summary)\n",
    "print(\"The type of count_vectorizer in summary_df  \",type(final_count_summary))\n",
    "print(\"The shape of BoW vectorizer in summary_df \", final_count_summary.get_shape())\n",
    "print(\"The number of unique words in summary_df  \",final_count_summary.get_shape()[1])\n"
   ]
  },
  {
   "cell_type": "code",
   "execution_count": 65,
   "id": "123381d3",
   "metadata": {},
   "outputs": [
    {
     "name": "stdout",
     "output_type": "stream",
     "text": [
      "The type of count vectorizer  <class 'scipy.sparse._csr.csr_matrix'>\n",
      "The shape final_bigram:  (9564, 5765)\n",
      "The number of unique words including both unigrams and bigrams:  5765\n"
     ]
    }
   ],
   "source": [
    "#Bi-Grams and n-Grams for reviews\n",
    "count_vect = CountVectorizer(ngram_range=(1,2), min_df=10, max_features=7000)\n",
    "final_bigram = count_vect.fit_transform(preprocessed_reviews)\n",
    "print(\"The type of count vectorizer \",type(final_bigram))\n",
    "print(\"The shape final_bigram: \",final_bigram.get_shape())\n",
    "print(\"The number of unique words including both unigrams and bigrams: \", final_bigram.get_shape()[1])"
   ]
  },
  {
   "cell_type": "code",
   "execution_count": 66,
   "id": "d4d9ad95",
   "metadata": {},
   "outputs": [
    {
     "name": "stdout",
     "output_type": "stream",
     "text": [
      "The type of count vectorizer for Summary  <class 'scipy.sparse._csr.csr_matrix'>\n",
      "The shape final_bigram for summary:  (9564, 578)\n",
      "The number of unique words including both unigrams and bigrams:  578\n"
     ]
    }
   ],
   "source": [
    "#Bi-Grams and n-Grams for summary\n",
    "count_vect_sum = CountVectorizer(ngram_range=(1,2), min_df=10, max_features=7000)\n",
    "final_bigram_sum = count_vect.fit_transform(preprocessed_summary)\n",
    "print(\"The type of count vectorizer for Summary \",type(final_bigram_sum))\n",
    "print(\"The shape final_bigram for summary: \",final_bigram_sum.get_shape())\n",
    "print(\"The number of unique words including both unigrams and bigrams: \", final_bigram_sum.get_shape()[1])\n",
    "\n"
   ]
  },
  {
   "cell_type": "code",
   "execution_count": 67,
   "id": "81d8ed5b",
   "metadata": {},
   "outputs": [
    {
     "name": "stdout",
     "output_type": "stream",
     "text": [
      "Some sample features(unique words in the corpus):  ['ability', 'able', 'able buy', 'able eat', 'able find', 'able get', 'able order', 'able use', 'absolute', 'absolute best']\n",
      "==================================================\n",
      "The type of count vectorizer  <class 'scipy.sparse._csr.csr_matrix'>\n",
      "The shape of final_tf_idf_rev  (9564, 5765)\n",
      "The number of unique words including both unigrams and bigrams  5765\n"
     ]
    }
   ],
   "source": [
    "#TF-IDF for reviews\n",
    "tf_idf_vect = TfidfVectorizer(ngram_range=(1,2), min_df=10)\n",
    "tf_idf_vect.fit(preprocessed_reviews)\n",
    "print(\"Some sample features(unique words in the corpus): \",tf_idf_vect.get_feature_names()[0:10])\n",
    "print('='*50)\n",
    "\n",
    "final_tf_idf_rev = tf_idf_vect.transform(preprocessed_reviews)\n",
    "print(\"The type of count vectorizer \",type(final_tf_idf_rev))\n",
    "print(\"The shape of final_tf_idf_rev \",final_tf_idf_rev.get_shape())\n",
    "print(\"The number of unique words including both unigrams and bigrams \", final_tf_idf_rev.get_shape()[1])"
   ]
  },
  {
   "cell_type": "code",
   "execution_count": 68,
   "id": "69eae514",
   "metadata": {},
   "outputs": [
    {
     "name": "stdout",
     "output_type": "stream",
     "text": [
      "Some sample features(unique words in the corpus):  ['absolutely', 'absolutely delicious', 'actually', 'addicted', 'addictive', 'agree', 'almonds', 'almost', 'alternative', 'aluminum']\n",
      "==================================================\n",
      "The type of count vectorizer  <class 'scipy.sparse._csr.csr_matrix'>\n",
      "The shape of final_tf_idf_sum  (9564, 578)\n",
      "The number of unique words including both unigrams and bigrams  578\n"
     ]
    }
   ],
   "source": [
    "#TF-IDF for summary\n",
    "tf_idf_vect = TfidfVectorizer(ngram_range=(1,2), min_df=10)\n",
    "tf_idf_vect.fit(preprocessed_summary)\n",
    "print(\"Some sample features(unique words in the corpus): \",tf_idf_vect.get_feature_names()[0:10])\n",
    "print('='*50)\n",
    "\n",
    "final_tf_idf_sum = tf_idf_vect.transform(preprocessed_summary)\n",
    "print(\"The type of count vectorizer \",type(final_tf_idf_sum))\n",
    "print(\"The shape of final_tf_idf_sum \",final_tf_idf_sum.get_shape())\n",
    "print(\"The number of unique words including both unigrams and bigrams \", final_tf_idf_sum.get_shape()[1])"
   ]
  },
  {
   "cell_type": "code",
   "execution_count": 69,
   "id": "fdad12e3",
   "metadata": {},
   "outputs": [],
   "source": [
    "#Word_2_Vec for review and summary\n",
    "\n",
    "list_of_sentc_rev=[]\n",
    "for sentance in preprocessed_reviews:\n",
    "    list_of_sentc_rev.append(sentance.split())\n",
    "    \n",
    "list_of_sentc_sum=[]\n",
    "for senrance in preprocessed_summary:\n",
    "    list_of_sentc_sum.append(sentance.split())"
   ]
  },
  {
   "cell_type": "code",
   "execution_count": 96,
   "id": "27b3278f",
   "metadata": {},
   "outputs": [
    {
     "name": "stdout",
     "output_type": "stream",
     "text": [
      "[('excellent', 0.8910835385322571), ('good', 0.8632918000221252), ('wonderful', 0.7901906371116638), ('fresh', 0.747199535369873), ('overall', 0.7378928065299988), ('makes', 0.7327553033828735), ('well', 0.726107120513916), ('sickening', 0.7162603735923767), ('decent', 0.7157618403434753), ('looking', 0.7107333540916443)]\n",
      "==================================================\n",
      "[('hands', 0.9751193523406982), ('disappointing', 0.9742241501808167), ('eaten', 0.9655758738517761), ('awful', 0.9605571627616882), ('varieties', 0.9604638814926147), ('absolute', 0.9597297310829163), ('jamaica', 0.9589985609054565), ('blends', 0.9584805965423584), ('grey', 0.9580742120742798), ('pg', 0.9576289057731628)]\n"
     ]
    }
   ],
   "source": [
    "want_to_train_w2v=True\n",
    "if want_to_train_w2v:\n",
    "    # min_count = 5 considers only words that occured atleast 5 times\n",
    "    w2v_model_rev=Word2Vec(list_of_sentc_rev,min_count=5,vector_size=50, workers=4)\n",
    "    print(w2v_model_rev.wv.most_similar('great'))\n",
    "    print('='*50)\n",
    "    print(w2v_model_rev.wv.most_similar('worst'))\n"
   ]
  },
  {
   "cell_type": "code",
   "execution_count": 97,
   "id": "5955b89b",
   "metadata": {},
   "outputs": [
    {
     "name": "stdout",
     "output_type": "stream",
     "text": [
      "[('quick', 0.8625193238258362), ('make', 0.8391530513763428), ('prepare', 0.8192410469055176), ('works', 0.8069700002670288), ('also', 0.7778550982475281), ('makes', 0.7706996202468872), ('sushi', 0.7660984396934509), ('clean', 0.7644457221031189), ('need', 0.7523777484893799), ('lunch', 0.7502284049987793)]\n",
      "==================================================\n",
      "[('absolutely', 0.8775326013565063), ('licorice', 0.8384461998939514), ('likes', 0.8232775330543518), ('unique', 0.8221467733383179), ('enjoy', 0.8172870874404907), ('spicy', 0.8169312477111816), ('delicious', 0.812677800655365), ('tasty', 0.8089853525161743), ('thai', 0.8075454831123352), ('really', 0.8063867092132568)]\n"
     ]
    }
   ],
   "source": [
    "if want_to_train_w2v:\n",
    "    w2v_model_sum=Word2Vec(list_of_sentc_sum,min_count=5,vector_size=50, workers=4)\n",
    "    print(w2v_model_rev.wv.most_similar('easy'))\n",
    "    print('='*50)\n",
    "    print(w2v_model_rev.wv.most_similar('love'))"
   ]
  },
  {
   "cell_type": "code",
   "execution_count": 98,
   "id": "bc9b7444",
   "metadata": {},
   "outputs": [
    {
     "name": "stdout",
     "output_type": "stream",
     "text": [
      "number of words that occured minimum 5 times in reviews:  5652\n",
      "sample words  ['not', 'like', 'good', 'great', 'taste', 'coffee', 'one', 'would', 'product', 'flavor', 'love', 'no', 'tea', 'food', 'really', 'get', 'much', 'use', 'best', 'time', 'amazon', 'also', 'tried', 'little', 'make', 'buy', 'price', 'find', 'well', 'better', 'try', 'even', 'cup', 'chips', 'bag', 'chocolate', 'sugar', 'water', 'eat', 'first', 'hot', 'could', 'drink', 'made', 'found', 'mix', 'used', 'bought', 'free', 'sweet']\n"
     ]
    }
   ],
   "source": [
    "w2v_words_rev = list(w2v_model_rev.wv.key_to_index)\n",
    "print(\"number of words that occured minimum 5 times in reviews: \",len(w2v_words_rev))\n",
    "print(\"sample words \", w2v_words_rev[0:50])"
   ]
  },
  {
   "cell_type": "code",
   "execution_count": 99,
   "id": "257dee01",
   "metadata": {},
   "outputs": [
    {
     "name": "stdout",
     "output_type": "stream",
     "text": [
      "number of words that occured minimum 5 times in summary:  19\n",
      "sample words  ['recommend', 'easy', 'product', 'local', 'store', 'ny', 'kids', 'love', 'quick', 'meal', 'strongly', 'put', 'toaster', 'oven', 'toast', 'min', 'ready', 'eat', 'purchased']\n"
     ]
    }
   ],
   "source": [
    "w2v_words_sum = list(w2v_model_sum.wv.key_to_index)\n",
    "print(\"number of words that occured minimum 5 times in summary: \",len(w2v_words_sum))\n",
    "print(\"sample words \", w2v_words_sum[0:50])"
   ]
  },
  {
   "cell_type": "code",
   "execution_count": 101,
   "id": "95645cfc",
   "metadata": {},
   "outputs": [
    {
     "name": "stderr",
     "output_type": "stream",
     "text": [
      "100%|█████████████████████████████████████| 9564/9564 [00:08<00:00, 1087.10it/s]"
     ]
    },
    {
     "name": "stdout",
     "output_type": "stream",
     "text": [
      "9564\n",
      "50\n"
     ]
    },
    {
     "name": "stderr",
     "output_type": "stream",
     "text": [
      "\n"
     ]
    }
   ],
   "source": [
    "#Avg Word2Vec and TF-IDF weighted Word2Vec\n",
    "sent_vectors_rev = []; # the avg-w2v for each sentence/review is stored in this list\n",
    "for sent in tqdm(list_of_sentc_rev):\n",
    "    cnt_words =0;\n",
    "    sent_vec=np.zeros(50)\n",
    "    for word in sent:\n",
    "        if word in w2v_words_rev:\n",
    "            vec = w2v_model_rev.wv[word];\n",
    "            sent_vec +=vec;\n",
    "            cnt_words += 1;\n",
    "    if cnt_words != 0:\n",
    "        sent_vec /= cnt_words\n",
    "    sent_vectors_rev.append(sent_vec)\n",
    "print(len(sent_vectors))\n",
    "print(len(sent_vectors[0]))\n"
   ]
  },
  {
   "cell_type": "code",
   "execution_count": 102,
   "id": "a2a8e675",
   "metadata": {},
   "outputs": [
    {
     "name": "stderr",
     "output_type": "stream",
     "text": [
      "100%|█████████████████████████████████████| 9564/9564 [00:01<00:00, 8948.87it/s]"
     ]
    },
    {
     "name": "stdout",
     "output_type": "stream",
     "text": [
      "9564\n",
      "50\n"
     ]
    },
    {
     "name": "stderr",
     "output_type": "stream",
     "text": [
      "\n"
     ]
    }
   ],
   "source": [
    "sent_vectors_sum = []; # the avg-w2v for each summary is stored in this list\n",
    "for sent in tqdm(list_of_sentc_sum):\n",
    "    cnt_words =0;\n",
    "    sent_vec=np.zeros(50)\n",
    "    for word in sent:\n",
    "        if word in w2v_words_sum:\n",
    "            vec = w2v_model_sum.wv[word];\n",
    "            sent_vec +=vec;\n",
    "            cnt_words += 1;\n",
    "    if cnt_words != 0:\n",
    "        sent_vec /= cnt_words\n",
    "    sent_vectors_sum.append(sent_vec)\n",
    "print(len(sent_vectors_sum))\n",
    "print(len(sent_vectors_sum[0]))"
   ]
  },
  {
   "cell_type": "code",
   "execution_count": 104,
   "id": "33cdb708",
   "metadata": {},
   "outputs": [],
   "source": [
    "#TFIDF weighted Word2Vec for reviews and summary.\n",
    "model1 = TfidfVectorizer()\n",
    "model2 = TfidfVectorizer()\n",
    "model1.fit(preprocessed_reviews)\n",
    "model2.fit(preprocessed_summary)\n",
    "\n",
    "# we are converting a dictionary with word as a key, and the idf as a value\n",
    "dictionary1 = dict(zip(model1.get_feature_names(), list(model1.idf_)))\n",
    "dictionary2 = dict(zip(model2.get_feature_names(), list(model2.idf_)))"
   ]
  },
  {
   "cell_type": "code",
   "execution_count": 105,
   "id": "42cbbc60",
   "metadata": {},
   "outputs": [
    {
     "name": "stderr",
     "output_type": "stream",
     "text": [
      "100%|██████████████████████████████████████| 9564/9564 [01:11<00:00, 134.23it/s]\n"
     ]
    }
   ],
   "source": [
    "# TF-IDF weighted Word2Vec for reviews\n",
    "tfidf_feat_rev = model1.get_feature_names() \n",
    "# final_tf_idf is the sparse matrix with row= sentence, col=word and cell_val = tfidf\n",
    "\n",
    "tfidf_sent_vectors_rev = []; # the tfidf-w2v for each sentence/review is stored in this list\n",
    "row=0;\n",
    "for sent in tqdm(list_of_sentc_rev): \n",
    "    sent_vec = np.zeros(50)\n",
    "    weight_sum =0; # num of words with a valid vector in the sentence/review\n",
    "    for word in sent: \n",
    "        if word in w2v_words_rev and word in tfidf_feat_rev:\n",
    "            vec = w2v_model_rev.wv[word]\n",
    "#             tf_idf = tf_idf_matrix[row, tfidf_feat.index(word)]\n",
    "            # to reduce the computation we are \n",
    "            # dictionary[word] = idf value of word in whole courpus\n",
    "            # sent.count(word) = tf valeus of word in this review\n",
    "            tf_idf = dictionary1[word]*(sent.count(word)/len(sent))\n",
    "            sent_vec += (vec * tf_idf)\n",
    "            weight_sum += tf_idf\n",
    "    if weight_sum != 0:\n",
    "        sent_vec /= weight_sum\n",
    "    tfidf_sent_vectors_rev.append(sent_vec)\n",
    "    row += 1"
   ]
  },
  {
   "cell_type": "code",
   "execution_count": 106,
   "id": "e21c3497",
   "metadata": {},
   "outputs": [
    {
     "name": "stdout",
     "output_type": "stream",
     "text": [
      "9564\n",
      "50\n",
      "Number of rows:  9564\n"
     ]
    }
   ],
   "source": [
    "print(len(tfidf_sent_vectors_rev))\n",
    "print(len(tfidf_sent_vectors_rev[0]))\n",
    "print(\"Number of rows: \",row)"
   ]
  },
  {
   "cell_type": "code",
   "execution_count": 107,
   "id": "c563c450",
   "metadata": {},
   "outputs": [
    {
     "name": "stderr",
     "output_type": "stream",
     "text": [
      "100%|██████████████████████████████████████| 9564/9564 [00:11<00:00, 828.43it/s]\n"
     ]
    }
   ],
   "source": [
    "# TF-IDF weighted Word2Vec for summary\n",
    "tfidf_feat_sum = model2.get_feature_names() \n",
    "# final_tf_idf is the sparse matrix with row= sentence, col=word and cell_val = tfidf\n",
    "\n",
    "tfidf_sent_vectors_sum = []; # the tfidf-w2v for each summary of review is stored in this list\n",
    "row=0;\n",
    "for sent in tqdm(list_of_sentc_sum): \n",
    "    sent_vec = np.zeros(50)\n",
    "    weight_sum =0; # num of words with a valid vector in the summary\n",
    "    for word in sent: \n",
    "        if word in w2v_words_sum and word in tfidf_feat_sum:\n",
    "            vec = w2v_model_sum.wv[word]\n",
    "            tf_idf = dictionary2[word]*(sent.count(word)/len(sent))\n",
    "            sent_vec += (vec * tf_idf)\n",
    "            weight_sum += tf_idf\n",
    "    if weight_sum != 0:\n",
    "        sent_vec /= weight_sum\n",
    "    tfidf_sent_vectors_sum.append(sent_vec)\n",
    "    row += 1"
   ]
  },
  {
   "cell_type": "code",
   "execution_count": 108,
   "id": "a75788be",
   "metadata": {},
   "outputs": [
    {
     "name": "stdout",
     "output_type": "stream",
     "text": [
      "9564\n",
      "50\n",
      "Number of rows:  9564\n"
     ]
    }
   ],
   "source": [
    "print(len(tfidf_sent_vectors_sum))\n",
    "print(len(tfidf_sent_vectors_sum[0]))\n",
    "print(\"Number of rows: \",row)"
   ]
  },
  {
   "cell_type": "markdown",
   "id": "5b5784f4",
   "metadata": {},
   "source": [
    "The text data for reviews and summary is converted into numerical vectors. Now we can further analyse and trian our model on this engineered data. "
   ]
  }
 ],
 "metadata": {
  "kernelspec": {
   "display_name": "Python 3 (ipykernel)",
   "language": "python",
   "name": "python3"
  },
  "language_info": {
   "codemirror_mode": {
    "name": "ipython",
    "version": 3
   },
   "file_extension": ".py",
   "mimetype": "text/x-python",
   "name": "python",
   "nbconvert_exporter": "python",
   "pygments_lexer": "ipython3",
   "version": "3.9.13"
  }
 },
 "nbformat": 4,
 "nbformat_minor": 5
}
